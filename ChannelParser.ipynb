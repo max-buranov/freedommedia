{
 "cells": [
  {
   "cell_type": "code",
   "execution_count": 1,
   "metadata": {},
   "outputs": [],
   "source": [
    "import requests\n",
    "import pandas as pd\n",
    "import xml.etree.ElementTree as ET\n",
    "from itertools import product\n",
    "import datetime\n",
    "from datetime import date, datetime, timedelta"
   ]
  },
  {
   "cell_type": "code",
   "execution_count": 2,
   "metadata": {},
   "outputs": [],
   "source": [
    "def xml_reader(url): \n",
    "    # URL вашей XML-ссылки\n",
    "    # Загрузка данных из URL\n",
    "    response = requests.get(url)\n",
    "    print(response.status_code)\n",
    "    print()\n",
    "    root = ET.fromstring(response.content)\n",
    "\n",
    "    data = []\n",
    "\n",
    "    for channel in root.findall('channel'):\n",
    "            channel_data = {\n",
    "                'channel_id':channel.get('id'),\n",
    "                'epgsrvc_id':channel.get('epgsrvc_id'),\n",
    "                'display_name':channel.find('display-name').text,\n",
    "                'week':channel.find('week').text,\n",
    "                'update':channel.find('update').text,\n",
    "                'link':channel.find('href').text\n",
    "            }\n",
    "            data.append(channel_data)\n",
    "    # Создание DataFrame из списка словарей\n",
    "    df = pd.DataFrame(data)\n",
    "    return df"
   ]
  },
  {
   "cell_type": "code",
   "execution_count": 3,
   "metadata": {},
   "outputs": [
    {
     "name": "stdout",
     "output_type": "stream",
     "text": [
      "200\n",
      "\n"
     ]
    }
   ],
   "source": [
    "data = xml_reader('http://xmldata.epgservice.ru/EPGService/hs/xmldata/3d6da182-cedb-4315-a685-30294949632/index')"
   ]
  },
  {
   "cell_type": "code",
   "execution_count": 4,
   "metadata": {},
   "outputs": [],
   "source": [
    "url = data.loc[0,'link']\n",
    "part_link = url.split('/file/')[0] + '/file/'"
   ]
  },
  {
   "cell_type": "code",
   "execution_count": 5,
   "metadata": {},
   "outputs": [],
   "source": [
    "today = date.today()\n",
    "start_of_this_week = (today - timedelta(days=today.weekday()))\n",
    "start_of_next_week = (start_of_this_week + timedelta(days=7)).strftime('%Y-%m-%d')\n",
    "\n",
    "start_of_this_week = start_of_this_week.strftime('%Y-%m-%d')\n",
    "\n",
    "weeks = [start_of_this_week, start_of_next_week]\n",
    "\n",
    "\n",
    "channels_list = data['channel_id'].unique()\n",
    "\n",
    "all_links = [f\"{part_link}{i}?week={j}\" for i, j in product(channels_list, weeks)]"
   ]
  },
  {
   "cell_type": "code",
   "execution_count": 6,
   "metadata": {},
   "outputs": [],
   "source": [
    "# all_links = []\n",
    "# for id_channel in channels_list: \n",
    "#     link = part_link + id_channel + '?week=' + start_of_next_week\n",
    "#     all_links.append(link)"
   ]
  },
  {
   "cell_type": "code",
   "execution_count": 7,
   "metadata": {},
   "outputs": [
    {
     "data": {
      "text/plain": [
       "378"
      ]
     },
     "execution_count": 7,
     "metadata": {},
     "output_type": "execute_result"
    }
   ],
   "source": [
    "len(all_links)"
   ]
  },
  {
   "cell_type": "code",
   "execution_count": 8,
   "metadata": {},
   "outputs": [],
   "source": [
    "def get_text(element, tag):\n",
    "    \"\"\"Функция для получения текста из элемента или возврата None, если элемент не найден.\"\"\"\n",
    "    found_element = element.find(tag)\n",
    "    return found_element.text if found_element is not None else None\n",
    "\n",
    "\n",
    "def pars_programm(result):\n",
    "    shedule = []\n",
    "    channel_info = result.find('channel')\n",
    "    channel = get_text(channel_info, 'display-name') \n",
    "    channel_id = channel_info.get('id')\n",
    "\n",
    "    for programme  in result.findall('programme'):\n",
    "        start = programme.get('start')\n",
    "        end = programme.get('stop')\n",
    "        title = get_text(programme, 'title')\n",
    "        title_element = programme.find('title')\n",
    "        title_id = title_element.get('id')\n",
    "        original_title = get_text(programme, 'original_title')\n",
    "        category = get_text(programme,'category')\n",
    "\n",
    "        ganres = [ganre.text for ganre in programme.findall('ganre')]\n",
    "        topics = [topic.text for topic in programme.findall('topic')]\n",
    "\n",
    "        credits = programme.find('credits')\n",
    "        actors = [{person.find('name').text: person.get('type')} for person in credits.findall('person')] if credits is not None else []\n",
    "\n",
    "        programm_info = [channel, channel_id,  title, title_id, original_title, start, end, category, ganres, topics, actors]\n",
    "        shedule.append(programm_info)\n",
    "\n",
    "    return shedule"
   ]
  },
  {
   "cell_type": "code",
   "execution_count": 9,
   "metadata": {},
   "outputs": [],
   "source": [
    "full_programm = []\n",
    "\n",
    "for link in all_links:\n",
    "    response_channel = requests.get(link)\n",
    "    if response_channel.status_code == 200:\n",
    "        result_request = ET.fromstring(response_channel.content)\n",
    "        list_programm = pars_programm(result_request)\n",
    "        full_programm.extend(list_programm)\n",
    "    else:\n",
    "        pass"
   ]
  },
  {
   "cell_type": "code",
   "execution_count": 10,
   "metadata": {},
   "outputs": [],
   "source": [
    "full_program_df = pd.DataFrame(full_programm, columns = ['channel', 'channel_id',  'title', 'title_id' ,'original_title', 'start', 'end', 'category', 'ganres', 'topics', 'actors'])"
   ]
  },
  {
   "cell_type": "code",
   "execution_count": 11,
   "metadata": {},
   "outputs": [],
   "source": [
    "programm_shedule = full_program_df[['channel', 'channel_id',  'title', 'title_id' ,'original_title', 'start', 'end', 'category']]"
   ]
  },
  {
   "cell_type": "code",
   "execution_count": 12,
   "metadata": {},
   "outputs": [],
   "source": [
    "actors = full_program_df[['title_id','actors']].explode('actors')\n",
    "actors = actors[~actors['actors'].isna()]\n",
    "actors[['name','role']] = actors['actors'].apply(lambda x: pd.Series(list(x.items())[0]))\n",
    "actors = actors[['title_id','name','role']].drop_duplicates()"
   ]
  },
  {
   "cell_type": "code",
   "execution_count": 13,
   "metadata": {},
   "outputs": [],
   "source": [
    "ganres = full_program_df[['title_id','ganres']].explode('ganres')\n",
    "ganres = ganres[~ganres['ganres'].isna()]\n",
    "ganres = ganres.drop_duplicates()"
   ]
  },
  {
   "cell_type": "code",
   "execution_count": 14,
   "metadata": {},
   "outputs": [],
   "source": [
    "topics = full_program_df[['title_id','topics']].explode('topics')\n",
    "topics = topics[~topics['topics'].isna()]\n",
    "topics = topics.drop_duplicates()"
   ]
  },
  {
   "cell_type": "code",
   "execution_count": 15,
   "metadata": {},
   "outputs": [],
   "source": [
    "def convert_time(time_str):\n",
    "    # Преобразуем строку в объект datetime\n",
    "    dt = datetime.strptime(time_str, \"%Y%m%d%H%M%S %z\")\n",
    "    # Применяем смещение на UTC+5\n",
    "    dt_utc_plus_5 = dt + timedelta(hours=5)\n",
    "    return dt_utc_plus_5.strftime(\"%Y-%m-%d %H:%M:%S\")"
   ]
  },
  {
   "cell_type": "code",
   "execution_count": 16,
   "metadata": {},
   "outputs": [
    {
     "name": "stderr",
     "output_type": "stream",
     "text": [
      "C:\\Users\\m.buranov\\AppData\\Local\\Temp\\ipykernel_24668\\3295508032.py:1: SettingWithCopyWarning: \n",
      "A value is trying to be set on a copy of a slice from a DataFrame.\n",
      "Try using .loc[row_indexer,col_indexer] = value instead\n",
      "\n",
      "See the caveats in the documentation: https://pandas.pydata.org/pandas-docs/stable/user_guide/indexing.html#returning-a-view-versus-a-copy\n",
      "  programm_shedule['start_video'] = programm_shedule['start'].apply(convert_time)\n",
      "C:\\Users\\m.buranov\\AppData\\Local\\Temp\\ipykernel_24668\\3295508032.py:2: SettingWithCopyWarning: \n",
      "A value is trying to be set on a copy of a slice from a DataFrame.\n",
      "Try using .loc[row_indexer,col_indexer] = value instead\n",
      "\n",
      "See the caveats in the documentation: https://pandas.pydata.org/pandas-docs/stable/user_guide/indexing.html#returning-a-view-versus-a-copy\n",
      "  programm_shedule['end_video'] = programm_shedule['end'].apply(convert_time)\n"
     ]
    }
   ],
   "source": [
    "programm_shedule['start_video'] = programm_shedule['start'].apply(convert_time)\n",
    "programm_shedule['end_video'] = programm_shedule['end'].apply(convert_time)"
   ]
  },
  {
   "cell_type": "code",
   "execution_count": 17,
   "metadata": {},
   "outputs": [],
   "source": [
    "programm_shedule['start_date'] = pd.to_datetime(programm_shedule['start_video']).dt.date"
   ]
  },
  {
   "cell_type": "code",
   "execution_count": 18,
   "metadata": {},
   "outputs": [],
   "source": [
    "programm_shedule = programm_shedule[['channel', 'channel_id', 'title', 'title_id', 'original_title', 'category', 'start_video', 'end_video', 'start_date']]"
   ]
  },
  {
   "cell_type": "code",
   "execution_count": 23,
   "metadata": {},
   "outputs": [],
   "source": [
    "# Сохранение файлов в директорию `./` (корневая директория проекта)\n",
    "\n",
    "programm_path = 'programm_shedule.csv'\n",
    "programm_shedule.to_csv(programm_path, index=False, encoding='utf-8-sig')\n",
    "\n",
    "topics_path = 'topics.csv'\n",
    "topics.to_csv(topics_path, index=False, encoding='utf-8-sig')\n",
    "\n",
    "ganres_path = 'ganres.csv'\n",
    "ganres.to_csv(ganres_path, index=False, encoding='utf-8-sig')\n",
    "\n",
    "actors_path = 'actors.csv'\n",
    "actors.to_csv(actors_path, index=False, encoding='utf-8-sig')"
   ]
  }
 ],
 "metadata": {
  "kernelspec": {
   "display_name": "Python 3",
   "language": "python",
   "name": "python3"
  },
  "language_info": {
   "codemirror_mode": {
    "name": "ipython",
    "version": 3
   },
   "file_extension": ".py",
   "mimetype": "text/x-python",
   "name": "python",
   "nbconvert_exporter": "python",
   "pygments_lexer": "ipython3",
   "version": "3.12.4"
  }
 },
 "nbformat": 4,
 "nbformat_minor": 2
}
